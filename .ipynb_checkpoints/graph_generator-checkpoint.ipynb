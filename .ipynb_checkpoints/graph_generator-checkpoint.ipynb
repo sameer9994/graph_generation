{
 "cells": [
  {
   "cell_type": "code",
   "execution_count": null,
   "metadata": {},
   "outputs": [],
   "source": [
    "import matplotlib.pyplot as plt \n",
    "%matplotlib as tk\n",
    "\n",
    "X = [int(i) for i in Input().split()]\n",
    "Y = [int(i) for i in Input().split()]\n",
    "\n",
    "#plotting the points\n",
    "plt.plot(X,Y)\n",
    "\n",
    "#naming x axis and y axis respectively\n",
    "plt.xlabel(\"Input\")\n",
    "plt.ylabel(\"Time\")\n",
    "\n",
    "#naming title of plot\n",
    "plt.title(\"Time Vs Input Graph\")\n",
    "\n",
    "#saving graph\n",
    "plt.savefig(\"graph.png\")\n",
    "\n"
   ]
  }
 ],
 "metadata": {
  "kernelspec": {
   "display_name": "Python 3",
   "language": "python",
   "name": "python3"
  },
  "language_info": {
   "codemirror_mode": {
    "name": "ipython",
    "version": 3
   },
   "file_extension": ".py",
   "mimetype": "text/x-python",
   "name": "python",
   "nbconvert_exporter": "python",
   "pygments_lexer": "ipython3",
   "version": "3.7.4"
  }
 },
 "nbformat": 4,
 "nbformat_minor": 2
}
